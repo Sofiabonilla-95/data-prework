{
 "cells": [
  {
   "cell_type": "markdown",
   "metadata": {},
   "source": [
    "<img src=\"https://bit.ly/2VnXWr2\" width=\"100\" align=\"left\">"
   ]
  },
  {
   "cell_type": "markdown",
   "metadata": {},
   "source": [
    "# Duel of Sorcerers\n",
    "You are witnessing an epic battle between two powerful sorcerers: Gandalf and Saruman. Each sorcerer has 10 spells of variable power in their mind and they are going to throw them one after the other. The winner of the duel will be the one who wins more of those clashes between spells. Spells are represented as a list of 10 integers whose value equals the power of the spell.\n",
    "```\n",
    "gandalf = [10, 11, 13, 30, 22, 11, 10, 33, 22, 22]\n",
    "saruman = [23, 66, 12, 43, 12, 10, 44, 23, 12, 17]\n",
    "```\n",
    "For example:\n",
    "- The first clash is won by Saruman: 10 against 23.\n",
    "- The second clash is won by Saruman: 11 against 66.\n",
    "- ...\n",
    "\n",
    "You will create two variables, one for each sorcerer, where the sum of clashes won will be stored. Depending on which variable is greater at the end of the duel, you will show one of the following three results on the screen:\n",
    "* Gandalf wins\n",
    "* Saruman wins\n",
    "* Tie\n",
    "\n",
    "<img src=\"images/content_lightning_bolt_big.jpg\" width=\"400\">"
   ]
  },
  {
   "cell_type": "markdown",
   "metadata": {},
   "source": [
    "## Tools\n",
    "You don't necessarily need to use all the tools. Maybe you opt to use some of them or completely different ones, they are given to help you shape the exercise. Programming exercises can be solved in many different ways.\n",
    "\n",
    "1. Data structures: **lists, dictionaries**\n",
    "2. Loop: **for loop**\n",
    "3. Conditional statements: **if-elif-else**\n",
    "4. Functions: **range(), len(), print()**\n",
    "\n",
    "## Tasks\n",
    "\n",
    "#### 1. Create two variables called `gandalf` and `saruman` and assign them the spell power lists. Create a variable called `spells` to store the number of spells that the sorcerers cast. "
   ]
  },
  {
   "cell_type": "code",
   "execution_count": 6,
   "metadata": {},
   "outputs": [
    {
     "name": "stdout",
     "output_type": "stream",
     "text": [
      "la lista de lanzamientos de gandalf y saruman son: [10, 23, 11, 66, 13, 12, 30, 43, 22, 12, 11, 10, 10, 44, 33, 23, 22, 12, 22, 17]\n"
     ]
    }
   ],
   "source": [
    "gandalf = [10, 11, 13, 30, 22, 11, 10, 33, 22, 22]\n",
    "saruman = [23, 66, 12, 43, 12, 10, 44, 23, 12, 17]\n",
    "spells=[]\n",
    "\n",
    "for i in range(len(gandalf)):\n",
    "    \n",
    "    spells.append(gandalf[i])\n",
    "    spells.append(saruman[i])\n",
    "    \n",
    "    \n",
    "print(\"la lista de lanzamientos de gandalf y saruman son:\", spells)\n",
    "    \n",
    "    \n",
    "    \n",
    "    "
   ]
  },
  {
   "cell_type": "markdown",
   "metadata": {},
   "source": [
    "#### 2. Create two variables called `gandalf_wins` and `saruman_wins`. Set both of them to 0. \n",
    "You will use these variables to count the number of clashes each sorcerer wins. "
   ]
  },
  {
   "cell_type": "code",
   "execution_count": 7,
   "metadata": {},
   "outputs": [
    {
     "name": "stdout",
     "output_type": "stream",
     "text": [
      "Gandalf gana\n"
     ]
    }
   ],
   "source": [
    "gandalf_wins=0\n",
    "saruman_wins=0\n",
    "\n",
    "for i in range(len(gandalf)):\n",
    "    \n",
    "    if gandalf[i]>saruman[i]:\n",
    "        \n",
    "        gandalf_wins=gandalf_wins+1\n",
    "        \n",
    "    elif gandalf[i]<saruman[i]:\n",
    "        \n",
    "        saruman_wins=saruman_wins+1\n",
    "        \n",
    "if gandalf_wins > saruman_wins:\n",
    "    print(\"Gandalf gana\")\n",
    "\n",
    "elif gandalf_wins < saruman_wins:\n",
    "    print(\"Saruman gana\")\n",
    "\n",
    "else: \n",
    "    print(\"Empate\")\n",
    "\n"
   ]
  },
  {
   "cell_type": "markdown",
   "metadata": {},
   "source": [
    "#### 3. Using the lists of spells of both sorcerers, update variables `gandalf_wins` and `saruman_wins` to count the number of times each sorcerer wins a clash. "
   ]
  },
  {
   "cell_type": "code",
   "execution_count": 15,
   "metadata": {},
   "outputs": [
    {
     "name": "stdout",
     "output_type": "stream",
     "text": [
      "gandalf gano 6 batallas\n",
      "saruman gano 4 batallas\n"
     ]
    }
   ],
   "source": [
    "gandalf_score=[]\n",
    "saruman_score=[]\n",
    "\n",
    "for i in range(len(gandalf)):\n",
    "    \n",
    "    if gandalf[i]>saruman[i]:\n",
    "        gandalf_score.append(1)\n",
    "        saruman_score.append(0)\n",
    "            \n",
    "    elif gandalf[i]<saruman[i]:\n",
    "        saruman_score.append(1)\n",
    "        gandalf_score.append(0)\n",
    "                               \n",
    "print(\"gandalf gano\",sum(gandalf_score),\"batallas\")\n",
    "print(\"saruman gano\",sum(saruman_score),\"batallas\")\n",
    "\n",
    "    "
   ]
  },
  {
   "cell_type": "markdown",
   "metadata": {},
   "source": [
    "#### 4. Who won the battle?\n",
    "Print `Gandalf wins`, `Saruman wins` or `Tie` depending on the result. "
   ]
  },
  {
   "cell_type": "code",
   "execution_count": null,
   "metadata": {},
   "outputs": [],
   "source": []
  },
  {
   "cell_type": "markdown",
   "metadata": {},
   "source": [
    "## Bonus\n",
    "\n",
    "In this bonus challenge, you'll need to check the winner of the battle but this time, a sorcerer wins if he succeeds in winning 3 spell clashes in a row.\n",
    "\n",
    "Also, the spells now have a name and there is a dictionary that associates that name to a power.\n",
    "\n",
    "```\n",
    "POWER = {\n",
    "    'Fireball': 50, \n",
    "    'Lightning bolt': 40, \n",
    "    'Magic arrow': 10, \n",
    "    'Black Tentacles': 25, \n",
    "    'Contagion': 45\n",
    "}\n",
    "\n",
    "gandalf = ['Fireball', 'Lightning bolt', 'Lightning bolt', 'Magic arrow', 'Fireball', \n",
    "           'Magic arrow', 'Lightning bolt', 'Fireball', 'Fireball', 'Fireball']\n",
    "saruman = ['Contagion', 'Contagion', 'Black Tentacles', 'Fireball', 'Black Tentacles', \n",
    "           'Lightning bolt', 'Magic arrow', 'Contagion', 'Magic arrow', 'Magic arrow']\n",
    "```\n",
    "\n",
    "#### 1. Create variables `POWER`, `gandalf` and `saruman` as seen above. Create a variable called `spells` to store the number of spells that the sorcerers cast. "
   ]
  },
  {
   "cell_type": "code",
   "execution_count": 16,
   "metadata": {},
   "outputs": [],
   "source": [
    "POWER = {\n",
    "    'Fireball': 50, \n",
    "    'Lightning bolt': 40, \n",
    "    'Magic arrow': 10, \n",
    "    'Black Tentacles': 25, \n",
    "    'Contagion': 45\n",
    "}\n",
    "\n",
    "gandalf = ['Fireball', 'Lightning bolt', 'Lightning bolt', 'Magic arrow', 'Fireball', \n",
    "           'Magic arrow', 'Lightning bolt', 'Fireball', 'Fireball', 'Fireball']\n",
    "\n",
    "saruman = ['Contagion', 'Contagion', 'Black Tentacles', 'Fireball', 'Black Tentacles', \n",
    "           'Lightning bolt', 'Magic arrow', 'Contagion', 'Magic arrow', 'Magic arrow']\n",
    "\n",
    "spells=0\n",
    "\n",
    "\n"
   ]
  },
  {
   "cell_type": "markdown",
   "metadata": {},
   "source": [
    "#### 2. Create two variables called `gandalf_wins` and `saruman_wins`. Set both of them to 0. "
   ]
  },
  {
   "cell_type": "code",
   "execution_count": 18,
   "metadata": {},
   "outputs": [],
   "source": [
    "gandalf_wins=0\n",
    "saruman_wins=0"
   ]
  },
  {
   "cell_type": "markdown",
   "metadata": {},
   "source": [
    "#### 3. Create two variables called `gandalf_power` and `saruman_power` to store the list of spell powers of each sorcerer."
   ]
  },
  {
   "cell_type": "code",
   "execution_count": 17,
   "metadata": {},
   "outputs": [],
   "source": [
    "gandalf_power=[]\n",
    "saruman_power=[]"
   ]
  },
  {
   "cell_type": "markdown",
   "metadata": {},
   "source": [
    "#### 4. The battle starts! Using the variables you've created above, code the execution of spell clashes. Remember that a sorcerer wins if he succeeds in winning 3 spell clashes in a row. \n",
    "If a clash ends up in a tie, the counter of wins in a row is not restarted to 0. Remember to print who is the winner of the battle. "
   ]
  },
  {
   "cell_type": "code",
   "execution_count": 19,
   "metadata": {},
   "outputs": [
    {
     "name": "stdout",
     "output_type": "stream",
     "text": [
      "El ganador es el hechizero Gandalf!\n"
     ]
    }
   ],
   "source": [
    "spells = 0\n",
    "\n",
    "gandalf_wins = 0\n",
    "\n",
    "saruman_wins = 0\n",
    "\n",
    "gandalf_power = []\n",
    "\n",
    "for spells in gandalf:\n",
    "\n",
    "    gandalf_power.append(POWER[spells])\n",
    "\n",
    "saruman_power = []\n",
    "\n",
    "for spells in saruman:\n",
    "\n",
    "    saruman_power.append(POWER[spells])\n",
    "\n",
    "\n",
    "for g, s in zip(gandalf_power, saruman_power):    \n",
    "    \n",
    "    if g > s: \n",
    "        \n",
    "        gandalf_wins= gandalf_wins + 1\n",
    "        \n",
    "        saruman_wins=0\n",
    "    \n",
    "    elif s > g: \n",
    "        \n",
    "        saruman_wins= saruman_wins + 1\n",
    "        \n",
    "        gandalf_wins=0\n",
    "\n",
    "    if gandalf_wins==3:\n",
    "        \n",
    "        winner=\"Gandalf\"\n",
    "        \n",
    "        break\n",
    "    \n",
    "    elif saruman_wins==3:\n",
    "        \n",
    "        winner=\"Saruman\"\n",
    "        \n",
    "        break\n",
    "\n",
    "if gandalf_wins < 3 and saruman_wins < 3:\n",
    "\n",
    "    print(\"Empate\")\n",
    "\n",
    "else:\n",
    "    print(f\"El ganador es el hechizero {winner}!\")"
   ]
  },
  {
   "cell_type": "markdown",
   "metadata": {},
   "source": [
    "#### 5. Find the average spell power of Gandalf and Saruman. "
   ]
  },
  {
   "cell_type": "code",
   "execution_count": 20,
   "metadata": {},
   "outputs": [
    {
     "name": "stdout",
     "output_type": "stream",
     "text": [
      "El poder medio de Gandalf es 39, y el poder medio de Saruman es 30.5\n"
     ]
    }
   ],
   "source": [
    "from statistics import mean\n",
    "\n",
    "print(f\"El poder medio de Gandalf es {round(mean(gandalf_power), 2)}, y el poder medio de Saruman es {round(mean(saruman_power), 2)}\")\n"
   ]
  },
  {
   "cell_type": "markdown",
   "metadata": {},
   "source": [
    "#### 6. Find the standard deviation of the spell power of Gandalf and Saruman. "
   ]
  },
  {
   "cell_type": "code",
   "execution_count": 21,
   "metadata": {},
   "outputs": [
    {
     "name": "stdout",
     "output_type": "stream",
     "text": [
      "La desviación estandar de los poderes de Gandalf es 15.95, mientras que la de Saruman es 16.41\n"
     ]
    }
   ],
   "source": [
    "from statistics import stdev\n",
    "\n",
    "print(f\"La desviación estandar de los poderes de Gandalf es {round(stdev(gandalf_power), 2)}, mientras que la de Saruman es {round(stdev(saruman_power), 2)}\")\n"
   ]
  },
  {
   "cell_type": "code",
   "execution_count": null,
   "metadata": {},
   "outputs": [],
   "source": []
  }
 ],
 "metadata": {
  "kernelspec": {
   "display_name": "Python 3 (ipykernel)",
   "language": "python",
   "name": "python3"
  },
  "language_info": {
   "codemirror_mode": {
    "name": "ipython",
    "version": 3
   },
   "file_extension": ".py",
   "mimetype": "text/x-python",
   "name": "python",
   "nbconvert_exporter": "python",
   "pygments_lexer": "ipython3",
   "version": "3.9.6"
  }
 },
 "nbformat": 4,
 "nbformat_minor": 2
}
